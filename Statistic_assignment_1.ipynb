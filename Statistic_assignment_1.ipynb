{
  "nbformat": 4,
  "nbformat_minor": 0,
  "metadata": {
    "colab": {
      "provenance": []
    },
    "kernelspec": {
      "name": "python3",
      "display_name": "Python 3"
    },
    "language_info": {
      "name": "python"
    }
  },
  "cells": [
    {
      "cell_type": "markdown",
      "source": [
        "# **Advance Statistics-1**\n",
        "# **Assignment Code: DA-AG-006**"
      ],
      "metadata": {
        "id": "LYXZogwekSSy"
      }
    },
    {
      "cell_type": "markdown",
      "source": [
        "Question 1: What is a random variable in probability theory?\n",
        "\n",
        "Ans> A random variable is a way to convert outcomes (like flipping coins, rolling dice, or\n",
        "measuring rainfall) into numbers for analysis."
      ],
      "metadata": {
        "id": "ekF5akuakZK3"
      }
    },
    {
      "cell_type": "markdown",
      "source": [
        "Question 2: What are the types of random variables?\n",
        "\n",
        "Ans>\n",
        "Discrete Variable:\n",
        "\n",
        "* Taking countable numbers, like whole\n",
        "numbers.\n",
        "\n",
        "* Common distributions are Bernoulli,\n",
        "Binomial.\n",
        "* Example: Tossing a coin, number of\n",
        "students in a class.\n",
        "\n",
        "Continuous Variable:\n",
        "* Taking any values within a given range(\n",
        "Real numbers), Values are measurable.\n",
        "* Common distributions are Normal,\n",
        "standard, chi-square.\n",
        "* Example:  List of temperatures in various\n",
        "cities, height of girls in a certain sport.\n"
      ],
      "metadata": {
        "id": "IzgD_DaqkZX2"
      }
    },
    {
      "cell_type": "markdown",
      "source": [
        "Question 3: Explain the difference between discrete and continuous distributions?\n",
        "\n",
        "Ans>  Discrete Distribution:\n",
        "* It describes the probability of a discrete\n",
        "variable.\n",
        "* Probability mass function is used  \n",
        "* Probability values is always between  \n",
        "0 to 1.\n",
        "* The probability of a specific value cannot\n",
        "be equal to zero.\n",
        "* CDF behaviour shows step function\n",
        "\n",
        "Continuous Distribution:\n",
        "* It describes the probability of a continuous\n",
        "variable within a range.\n",
        "* Probability density function is used.\n",
        "* Probability values which are areas under\n",
        "the curve are 0 to 1.  \n",
        "* As it takes interval values, the probability of\n",
        "specific value can be zero.\n",
        "* CDF behaviour shows continuous function"
      ],
      "metadata": {
        "id": "9gTBcdbFlPqv"
      }
    },
    {
      "cell_type": "markdown",
      "source": [
        "Question 4: What is a binomial distribution, and how is it used in probability?  \n",
        "\n",
        "Ans>  The binomial distribution is a fundamental tool in probability and statistics. Whenever\n",
        "there is a requirement to deal with multiple independent binary trials with a fixed\n",
        "probability of success, and  a desire to see the distribution or likelihood of seeing a\n",
        "certain number of successes.  \n",
        "1. There should be a fixed number of trials.\n",
        "2. Each trial is independent and has two outcomes.\n",
        "3. Probability of success has to be constant."
      ],
      "metadata": {
        "id": "9gGaSNAHlPtv"
      }
    },
    {
      "cell_type": "markdown",
      "source": [
        "Question 5: What is the standard normal distribution, and why is it important?  \n",
        "Answer:\n",
        "\n",
        "Standard Deviation Distribution is a special case of the normal distribution where:\n",
        "Mean: 0 & Standard deviation: 1. It's a bell-shaped symmetric curve centered at 0.  \n",
        "It is important as it is widely used to simplify the calculations, especially by using Z-score\n",
        "to tell how many standard deviations a value is from the mean."
      ],
      "metadata": {
        "id": "BvMzzhPclPxP"
      }
    },
    {
      "cell_type": "markdown",
      "source": [
        "Question 6: What is the Central Limit Theorem (CLT), and why is it critical in statistics?  \n",
        "Answer:  \n",
        "\n",
        "The Central Limit Theorem in Statistics states that as the sample size increases and its\n",
        "variance is finite, then the distribution of the sample mean approaches the normal\n",
        "distribution, irrespective of the shape of the population distribution.\n",
        "It is critical in statistics as\n",
        "1. We can check whether the sample mean differs significantly from an unknown\n",
        "population mean or not.\n",
        "2. It makes hypothesis testing more reliable, as it allows to perform various tests based\n",
        "on the assumption of normality.\n",
        "3. Because of the Central limit theorem, we can apply probability rules in real life\n",
        "sampling scenarios."
      ],
      "metadata": {
        "id": "cpg2sjynlP0Q"
      }
    },
    {
      "cell_type": "markdown",
      "source": [
        "Question 7: What is the significance of confidence intervals in statistical analysis?\n",
        "Answer:  \n",
        "\n",
        "Instead of  giving a single estimate, the confidence interval gives a range where the true\n",
        "value is likely to lie. This feature emphasis confidence interval in many ways:\n",
        "1. It quantifies the uncertainty associated with sample statistics. A narrower interval\n",
        "means the estimate is more precise, while a wider interval shows more variability.\n",
        "2. Used in hypothesis testing, to reject the null hypothesis.\n",
        "3. It supports decision making, in real life while evaluating risk factors, predict\n",
        "outcomes, or clear margin of error."
      ],
      "metadata": {
        "id": "Zwe8tQHwlP3M"
      }
    },
    {
      "cell_type": "markdown",
      "source": [
        "Question 8: What is the concept of expected value in a probability distribution?  \n",
        "Answer:  \n",
        "\n",
        "The expected value (also called mean/proportion) of a probability is the long run average\n",
        "outcome that would be expected if repeated an experiment many times. It is the\n",
        "weighted average of all possible values that a random variable can take,, where the\n",
        "weights are their probabilities."
      ],
      "metadata": {
        "id": "wi8-Jo9xlP6z"
      }
    },
    {
      "cell_type": "code",
      "source": [
        "#Question 9: Write a Python program to generate 1000 random numbers from a normal distribution with mean = 50 and standard deviation = 5.\n",
        "#Compute its mean and standard deviation using NumPy, and draw a histogram to visualize the distribution.\n",
        "\n",
        "import numpy as np\n",
        "import matplotlib.pyplot as plt\n",
        "\n",
        "# Generate 1000 random numbers from a normal distribution\n",
        "data = np.random.normal(loc=50, scale=5, size=1000)\n",
        "mean = np.mean(data)\n",
        "std_dev = np.std(data)\n",
        "\n",
        "print(f\"Mean: {mean}\")\n",
        "print(f\"Standard Deviation: {std_dev}\")\n",
        "print()\n",
        "plt.hist(data, bins=30, density=True, alpha=0.6, color='darkblue')\n",
        "plt.xlabel(\"Value\")\n",
        "plt.ylabel(\"Frequency\")\n",
        "plt.title(\"Histogram of Normal Distribution\")\n",
        "plt.show()"
      ],
      "metadata": {
        "colab": {
          "base_uri": "https://localhost:8080/",
          "height": 526
        },
        "id": "L5bM2cDfmY30",
        "outputId": "1b7b911c-9c1b-48d0-88b7-fbe63310fbab"
      },
      "execution_count": 1,
      "outputs": [
        {
          "output_type": "stream",
          "name": "stdout",
          "text": [
            "Mean: 50.1673942808191\n",
            "Standard Deviation: 5.069347070493555\n",
            "\n"
          ]
        },
        {
          "output_type": "display_data",
          "data": {
            "text/plain": [
              "<Figure size 640x480 with 1 Axes>"
            ],
            "image/png": "[encoded data removed]"
          },
          "metadata": {}
        }
      ]
    },
    {
      "cell_type": "code",
      "source": [
        "#Question 10: You are working as a data analyst for a retail company. The company has collected daily sales data for 2 years and wants you to identify the overall sales trend.\n",
        "# daily_sales = [220, 245, 210, 265, 230, 250, 260, 275, 240, 255, 235, 260, 245, 250, 225, 270, 265, 255, 250, 260].\n",
        "# ● Explain how you would apply the Central Limit Theorem to estimate the average sales with a 95% confidence interval.\n",
        "# ● Write the Python code to compute the mean sales and its confidence interval.\n",
        "\n",
        "import numpy as np\n",
        "import scipy.stats as stats\n",
        "\n",
        "daily_sales = [220, 245, 210, 265, 230, 250, 260, 275, 240, 255,\n",
        "235, 260, 245, 250, 225, 270, 265, 255, 250, 260]\n",
        "\n",
        "n = len(daily_sales)\n",
        "Sample_mean= np.mean(daily_sales)\n",
        "Std_dev = np.std(daily_sales,ddof = 1)\n",
        "\n",
        "SE = Std_dev / np.sqrt(n)  # standard error\n",
        "\n",
        "t_crit = stats.t.ppf(0.975, df=n-1)  # 95% confidence interval\n",
        "\n",
        "Margin_error = t_crit * SE\n",
        "\n",
        "lower_bound = Sample_mean - t_crit * SE\n",
        "upper_bound = Sample_mean + t_crit * SE\n",
        "\n",
        "print(f\"Sample Mean: {Sample_mean:.2f}\")\n",
        "print(f\"Confidence Interval: ({lower_bound:.2f},{upper_bound:.2f})\")\n"
      ],
      "metadata": {
        "colab": {
          "base_uri": "https://localhost:8080/"
        },
        "id": "bNrAmUA8mZAL",
        "outputId": "21b91c8b-422a-4c5c-8ec5-c97d00a9ccb4"
      },
      "execution_count": 3,
      "outputs": [
        {
          "output_type": "stream",
          "name": "stdout",
          "text": [
            "Sample Mean: 248.25\n",
            "Confidence Interval: (240.17,256.33)\n"
          ]
        }
      ]
    },
    {
      "cell_type": "markdown",
      "source": [
        "Question 10: You are working as a data analyst for a retail company. The company has\n",
        "collected daily sales data for 2 years and wants you to identify the overall sales trend.\n",
        "daily_sales = [220, 245, 210, 265, 230, 250, 260, 275, 240, 255, 235, 260, 245, 250, 225,\n",
        "270, 265, 255, 250, 260].\n",
        "● Explain how you would apply the Central Limit Theorem to estimate the average sales\n",
        "with a 95% confidence interval.  \n",
        "\n",
        "\n",
        "Ans>  After observing the sample size, I will apply the Central limit theorem through the T-distribution process.  \n",
        "1. As the sample size(n) :20\n",
        "2. Population standard deviation is unknown.\n",
        "Using t-distribution will allow me to use normal distribution properties to estimate\n",
        "average sales with a confidence interval of 95%."
      ],
      "metadata": {
        "id": "ZJTT3tLPm8xM"
      }
    }
  ]
}